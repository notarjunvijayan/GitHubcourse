{
 "cells": [
  {
   "cell_type": "code",
   "execution_count": null,
   "metadata": {},
   "outputs": [
    {
     "name": "stdout",
     "output_type": "stream",
     "text": [
      "CALUCLATOR\n",
      "\n",
      "\n",
      "Enter the two numbers :\n"
     ]
    }
   ],
   "source": [
    "def add(x,y):\n",
    "    return x + y\n",
    "def sub(x,y):\n",
    "    return x - y\n",
    "def mul(x,y):\n",
    "    return x * y\n",
    "def divi(x,y):\n",
    "    return x / y\n",
    "print(\"CALUCLATOR\\n\\n\")\n",
    "print(\"Enter the two numbers :\")\n",
    "num1=int(input())\n",
    "num2=int(input())\n",
    "oper=input(\"Enter the operator: \")\n",
    "\n",
    "while 1:\n",
    "    if oper == '+':\n",
    "        res=add(num1,num2)\n",
    "        print(\"Result is,\"res)\n",
    "    elif oper == '-':\n",
    "        print(\"Result is:\",res)\n",
    "        res=sub(num1,num2)\n",
    "    elif oper == '*':\n",
    "        res=mul(num1,num2)\n",
    "        print(\"Result is:\",res)\n",
    "    elif oper == '/':\n",
    "        res=divi(num1,num2)\n",
    "        print(\"Result is,\"res)\n",
    "    else:\n",
    "        print(\"Invalid input\")\n",
    "\n"
   ]
  },
  {
   "cell_type": "code",
   "execution_count": null,
   "metadata": {},
   "outputs": [],
   "source": []
  }
 ],
 "metadata": {
  "kernelspec": {
   "display_name": "Python 3",
   "language": "python",
   "name": "python3"
  },
  "language_info": {
   "codemirror_mode": {
    "name": "ipython",
    "version": 3
   },
   "file_extension": ".py",
   "mimetype": "text/x-python",
   "name": "python",
   "nbconvert_exporter": "python",
   "pygments_lexer": "ipython3",
   "version": "3.6.9"
  }
 },
 "nbformat": 4,
 "nbformat_minor": 2
}
